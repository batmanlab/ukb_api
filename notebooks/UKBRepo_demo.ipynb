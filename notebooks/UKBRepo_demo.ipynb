{
 "cells": [
  {
   "cell_type": "markdown",
   "metadata": {
    "slideshow": {
     "slide_type": "slide"
    }
   },
   "source": [
    "# UKB Repo Demo"
   ]
  },
  {
   "cell_type": "markdown",
   "metadata": {
    "slideshow": {
     "slide_type": "subslide"
    }
   },
   "source": [
    "--> UKB Dataset is pretty large with over 5K data fields for over 500K subjects\n",
    "\n",
    "\n",
    "\n",
    "--> Currently UKB dataset resides on OpenMind cluster \n",
    "\n",
    "\n",
    "--> Purpose of creating this library\n",
    "\n",
    "\n",
    "--> Currently three modules in development for access to genetic,bulk and scalar data types for UKB dataset.\n",
    "\n"
   ]
  },
  {
   "cell_type": "code",
   "execution_count": 1,
   "metadata": {
    "slideshow": {
     "slide_type": "slide"
    }
   },
   "outputs": [],
   "source": [
    "# import the main repo and relevant modules you might need\n",
    "import UKBRepo.UKBRepo as ukbr\n",
    "from UKBRepo.UKBRepo import module_scalar_data_handler as scalar_module\n",
    "from UKBRepo.UKBRepo import module_bulk_data_handler as bulk_module\n",
    "from UKBRepo.UKBRepo import module_genetic_data_handler as genetic_module"
   ]
  },
  {
   "cell_type": "markdown",
   "metadata": {
    "slideshow": {
     "slide_type": "slide"
    }
   },
   "source": [
    "# Scalar Data Access"
   ]
  },
  {
   "cell_type": "markdown",
   "metadata": {
    "slideshow": {
     "slide_type": "subslide"
    }
   },
   "source": [
    "Example Scalar Categories\n",
    "- Smoking/Diet related field ids\n",
    "- Education and Diet\n",
    "- Ethinicity "
   ]
  },
  {
   "cell_type": "code",
   "execution_count": 3,
   "metadata": {
    "slideshow": {
     "slide_type": "subslide"
    }
   },
   "outputs": [],
   "source": [
    "# initialize the module object\n",
    "scalar_handler_object=scalar_module.scalar_data_handler()"
   ]
  },
  {
   "cell_type": "markdown",
   "metadata": {
    "slideshow": {
     "slide_type": "subslide"
    }
   },
   "source": [
    "Init signature: scalar_module.scalar_data_handler()\n",
    "Docstring:     \n",
    "A class to represent family of methods for handling and fetching scalar data of UKB dataset\n",
    "\n",
    "...\n",
    "\n",
    "Attributes\n",
    "----------\n",
    "columns_to_read_for_field_id : list\n",
    "    list of relevant columns to read from metadata file\n",
    "\n",
    "\n",
    "Methods\n",
    "-------\n",
    "display_all_ukb_categories():\n",
    "    displays all the categories\n",
    "\n",
    "get_field_ids_for_category(category_name):\n",
    "    retrieves filed ids for a category\n",
    "\n",
    "get_subject_list_field_ids(category_name):\n",
    "    retrieves list of subject relevant to that field id\n",
    "\n",
    "get_data_scalar(field_id,subject_id):\n",
    "    fetches scalar data from metadata file\n",
    "File:           ~/PycharmProjects/UKBRepo/UKBRepo/module_scalar_data_handler.py\n",
    "Type:           type"
   ]
  },
  {
   "cell_type": "code",
   "execution_count": 4,
   "metadata": {
    "slideshow": {
     "slide_type": "subslide"
    }
   },
   "outputs": [
    {
     "data": {
      "text/plain": [
       "['Abdominal composition',\n",
       " 'ECG at rest, 12-lead',\n",
       " 'Infectious Disease Antigens',\n",
       " 'NMR metabolomics',\n",
       " 'NMR metabolomics QC indicators',\n",
       " 'Autorefraction',\n",
       " 'Task functional brain MRI',\n",
       " 'Abdominal MRI',\n",
       " 'Social support',\n",
       " 'ECG during exercise',\n",
       " 'MET Scores',\n",
       " 'Arterial stiffness',\n",
       " 'Spirometry',\n",
       " 'Brain MRI',\n",
       " 'Telomeres',\n",
       " 'Early life factors',\n",
       " 'Family history',\n",
       " 'Medical conditions',\n",
       " 'Female-specific factors',\n",
       " 'Eyesight',\n",
       " 'Education',\n",
       " 'Sexual factors',\n",
       " 'Smoking',\n",
       " 'Reception',\n",
       " 'Diet',\n",
       " 'Procedural metrics',\n",
       " 'Blood biochemistry',\n",
       " 'Blood biochemistry processing',\n",
       " 'Alcohol',\n",
       " 'T1 structural brain MRI',\n",
       " 'Body composition by DXA',\n",
       " 'Bone-densitometry of heel',\n",
       " 'Medications',\n",
       " 'Heart MRI',\n",
       " 'Intraocular pressure',\n",
       " 'Freesurfer BA exvivo',\n",
       " 'Freesurfer a2009s',\n",
       " 'Freesurfer desikan white',\n",
       " 'Freesurfer desikan pial',\n",
       " 'Freesurfer DKT',\n",
       " 'Bone size, mineral and density by DXA',\n",
       " 'Body composition by impedance',\n",
       " 'Arterial spin labelling brain MRI',\n",
       " 'Cardiac and aortic function',\n",
       " 'Fluid intelligence / reasoning',\n",
       " 'Other sociodemographic factors',\n",
       " 'Pulse wave analysis',\n",
       " 'Left ventricular size and function',\n",
       " 'Household',\n",
       " 'Infectious Diseases',\n",
       " 'Pain',\n",
       " 'Blood count',\n",
       " 'Blood count processing',\n",
       " 'DXA assessment',\n",
       " 'Process authorisation',\n",
       " 'Process durations',\n",
       " 'Process completion times',\n",
       " 'Mental health',\n",
       " 'Blood pressure',\n",
       " 'Blood sample collection',\n",
       " 'Body size measures',\n",
       " 'Eye surgery/complications',\n",
       " 'Carotid ultrasound',\n",
       " 'Employment',\n",
       " 'Chest pain',\n",
       " 'Sun exposure',\n",
       " 'Hearing',\n",
       " 'Hearing test',\n",
       " 'Numeric memory',\n",
       " 'Urine assays',\n",
       " 'Urine processing',\n",
       " 'Sleep',\n",
       " 'Electronic device use',\n",
       " 'Visual acuity',\n",
       " 'Derived OCT measures',\n",
       " 'Susceptibility weighted brain MRI',\n",
       " 'T2-weighted brain MRI',\n",
       " 'Diffusion brain MRI',\n",
       " 'Resting functional brain MRI',\n",
       " 'Greenspace and coastal proximity',\n",
       " 'Physical activity',\n",
       " 'Retinal optical coherence tomography',\n",
       " 'Picture vocabulary',\n",
       " 'Prospective memory',\n",
       " 'Matrix pattern completion',\n",
       " 'Trail making',\n",
       " 'Tower rearranging',\n",
       " 'Symbol digit substitution',\n",
       " 'Reaction time',\n",
       " 'Ethnicity',\n",
       " 'Cancer screening',\n",
       " 'General health',\n",
       " 'Freesurfer desikan gw',\n",
       " 'Operations',\n",
       " 'Male-specific factors',\n",
       " 'Hand grip strength',\n",
       " 'NMR metabolomics processing',\n",
       " 'Recruitment',\n",
       " 'Kidney MRI',\n",
       " 'Claudication and peripheral artery disease',\n",
       " 'Liver MRI',\n",
       " 'dMRI skeleton',\n",
       " 'Freesurfer ASEG',\n",
       " 'Pancreas MRI',\n",
       " 'Medication',\n",
       " 'Mouth',\n",
       " 'Lights pattern memory',\n",
       " 'Pairs matching',\n",
       " 'Paired associate learning',\n",
       " 'Word production',\n",
       " 'Scout images and configuration for brain MRI',\n",
       " 'Saliva sample collection',\n",
       " 'Urine sample collection',\n",
       " 'Breathing',\n",
       " 'Saliva sample inventory',\n",
       " 'Urine sample inventory',\n",
       " 'Blood sample inventory',\n",
       " 'Freesurfer subsegmentation',\n",
       " 'Subcortical volumes (FIRST)',\n",
       " 'Regional grey matter volumes (FAST)',\n",
       " 'dMRI weighted means']"
      ]
     },
     "execution_count": 4,
     "metadata": {},
     "output_type": "execute_result"
    }
   ],
   "source": [
    "scalar_handler_object.display_all_ukb_categories()"
   ]
  },
  {
   "cell_type": "code",
   "execution_count": 5,
   "metadata": {
    "slideshow": {
     "slide_type": "subslide"
    }
   },
   "outputs": [
    {
     "data": {
      "text/html": [
       "<div>\n",
       "<style scoped>\n",
       "    .dataframe tbody tr th:only-of-type {\n",
       "        vertical-align: middle;\n",
       "    }\n",
       "\n",
       "    .dataframe tbody tr th {\n",
       "        vertical-align: top;\n",
       "    }\n",
       "\n",
       "    .dataframe thead th {\n",
       "        text-align: right;\n",
       "    }\n",
       "</style>\n",
       "<table border=\"1\" class=\"dataframe\">\n",
       "  <thead>\n",
       "    <tr style=\"text-align: right;\">\n",
       "      <th></th>\n",
       "      <th>Unnamed: 0</th>\n",
       "      <th>Field ID</th>\n",
       "      <th>Description</th>\n",
       "      <th>Category</th>\n",
       "      <th>field_id_category</th>\n",
       "    </tr>\n",
       "  </thead>\n",
       "  <tbody>\n",
       "    <tr>\n",
       "      <th>1101</th>\n",
       "      <td>1101</td>\n",
       "      <td>21000</td>\n",
       "      <td>Ethnic background</td>\n",
       "      <td>Ethnicity</td>\n",
       "      <td>Misc data type</td>\n",
       "    </tr>\n",
       "    <tr>\n",
       "      <th>4593</th>\n",
       "      <td>4593</td>\n",
       "      <td>3659</td>\n",
       "      <td>Year immigrated to UK (United Kingdom)</td>\n",
       "      <td>Ethnicity</td>\n",
       "      <td>Misc data type</td>\n",
       "    </tr>\n",
       "  </tbody>\n",
       "</table>\n",
       "</div>"
      ],
      "text/plain": [
       "      Unnamed: 0  Field ID                             Description   Category  \\\n",
       "1101        1101     21000                       Ethnic background  Ethnicity   \n",
       "4593        4593      3659  Year immigrated to UK (United Kingdom)  Ethnicity   \n",
       "\n",
       "     field_id_category  \n",
       "1101    Misc data type  \n",
       "4593    Misc data type  "
      ]
     },
     "execution_count": 5,
     "metadata": {},
     "output_type": "execute_result"
    }
   ],
   "source": [
    "scalar_handler_object.get_field_ids_for_category(\"Ethnicity\")"
   ]
  },
  {
   "cell_type": "code",
   "execution_count": 6,
   "metadata": {
    "slideshow": {
     "slide_type": "subslide"
    }
   },
   "outputs": [
    {
     "name": "stdout",
     "output_type": "stream",
     "text": [
      "502417 <class 'numpy.ndarray'>\n"
     ]
    }
   ],
   "source": [
    "list_of_subjects=scalar_handler_object.get_subject_list_field_ids(21000)\n",
    "\n",
    "print(len(list_of_subjects),type(list_of_subjects))"
   ]
  },
  {
   "cell_type": "code",
   "execution_count": 7,
   "metadata": {
    "slideshow": {
     "slide_type": "subslide"
    }
   },
   "outputs": [
    {
     "data": {
      "text/html": [
       "<div>\n",
       "<style scoped>\n",
       "    .dataframe tbody tr th:only-of-type {\n",
       "        vertical-align: middle;\n",
       "    }\n",
       "\n",
       "    .dataframe tbody tr th {\n",
       "        vertical-align: top;\n",
       "    }\n",
       "\n",
       "    .dataframe thead th {\n",
       "        text-align: right;\n",
       "    }\n",
       "</style>\n",
       "<table border=\"1\" class=\"dataframe\">\n",
       "  <thead>\n",
       "    <tr style=\"text-align: right;\">\n",
       "      <th></th>\n",
       "      <th>eid</th>\n",
       "      <th>21000-0.0</th>\n",
       "      <th>21000-1.0</th>\n",
       "      <th>21000-2.0</th>\n",
       "    </tr>\n",
       "  </thead>\n",
       "  <tbody>\n",
       "    <tr>\n",
       "      <th>0</th>\n",
       "      <td>1000012</td>\n",
       "      <td>1001.0</td>\n",
       "      <td>NaN</td>\n",
       "      <td>NaN</td>\n",
       "    </tr>\n",
       "  </tbody>\n",
       "</table>\n",
       "</div>"
      ],
      "text/plain": [
       "       eid  21000-0.0  21000-1.0  21000-2.0\n",
       "0  1000012     1001.0        NaN        NaN"
      ]
     },
     "execution_count": 7,
     "metadata": {},
     "output_type": "execute_result"
    }
   ],
   "source": [
    "#fetch the scalar data\n",
    "scalar_handler_object.get_data_scalar(21000,1000012)"
   ]
  },
  {
   "cell_type": "code",
   "execution_count": 8,
   "metadata": {
    "slideshow": {
     "slide_type": "subslide"
    }
   },
   "outputs": [
    {
     "data": {
      "text/plain": [
       "'British'"
      ]
     },
     "execution_count": 8,
     "metadata": {},
     "output_type": "execute_result"
    }
   ],
   "source": [
    "# either use the encoding dictionary to evalute the value or use the dictionary to apply encoding to your pandas \n",
    "# object\n",
    "scalar_module.age_encoding_dict['1001.0']"
   ]
  },
  {
   "cell_type": "markdown",
   "metadata": {
    "slideshow": {
     "slide_type": "slide"
    }
   },
   "source": [
    "# Genetic Data Access"
   ]
  },
  {
   "cell_type": "code",
   "execution_count": 9,
   "metadata": {
    "slideshow": {
     "slide_type": "subslide"
    }
   },
   "outputs": [],
   "source": [
    "# Initialize the genetic module objects\n",
    "genetic_handler_object=genetic_module.genetic_data_handler()"
   ]
  },
  {
   "cell_type": "code",
   "execution_count": 10,
   "metadata": {
    "slideshow": {
     "slide_type": "subslide"
    }
   },
   "outputs": [
    {
     "data": {
      "text/plain": [
       "'/ocean/projects/asc170022p/tighu/UKB_Genetic_Data'"
      ]
     },
     "execution_count": 10,
     "metadata": {},
     "output_type": "execute_result"
    }
   ],
   "source": [
    "#fetch the location of all genetic data stored on ocean filesystem\n",
    "genetic_module.genetic_data_location"
   ]
  },
  {
   "cell_type": "code",
   "execution_count": 11,
   "metadata": {
    "slideshow": {
     "slide_type": "subslide"
    }
   },
   "outputs": [],
   "source": [
    "# set the chromosomes you require\n",
    "genetic_handler_object.chromosome_number_list=[\"A\",\"B\"]"
   ]
  },
  {
   "cell_type": "code",
   "execution_count": 12,
   "metadata": {
    "slideshow": {
     "slide_type": "subslide"
    }
   },
   "outputs": [
    {
     "data": {
      "text/plain": [
       "Chunk(nsamples=1024, nvariants=1024)"
      ]
     },
     "execution_count": 12,
     "metadata": {},
     "output_type": "execute_result"
    }
   ],
   "source": [
    "genetic_handler_object.get_genetic_data_batch(100)"
   ]
  },
  {
   "cell_type": "markdown",
   "metadata": {
    "slideshow": {
     "slide_type": "slide"
    }
   },
   "source": [
    "# Bulk Data Access"
   ]
  },
  {
   "cell_type": "code",
   "execution_count": 13,
   "metadata": {
    "slideshow": {
     "slide_type": "subslide"
    }
   },
   "outputs": [],
   "source": [
    "# Initialize the bulk module objects\n",
    "bulk_handler_object=bulk_module.bulk_data_handler()"
   ]
  },
  {
   "cell_type": "code",
   "execution_count": 17,
   "metadata": {
    "slideshow": {
     "slide_type": "subslide"
    }
   },
   "outputs": [
    {
     "data": {
      "text/plain": [
       "['Abdominal composition',\n",
       " 'ECG at rest, 12-lead',\n",
       " 'Infectious Disease Antigens',\n",
       " 'NMR metabolomics',\n",
       " 'NMR metabolomics QC indicators',\n",
       " 'Autorefraction',\n",
       " 'Task functional brain MRI',\n",
       " 'Abdominal MRI',\n",
       " 'Social support',\n",
       " 'ECG during exercise']"
      ]
     },
     "execution_count": 17,
     "metadata": {},
     "output_type": "execute_result"
    }
   ],
   "source": [
    "bulk_handler_object.display_all_ukb_categories()[:10]"
   ]
  },
  {
   "cell_type": "code",
   "execution_count": 18,
   "metadata": {
    "slideshow": {
     "slide_type": "subslide"
    }
   },
   "outputs": [
    {
     "data": {
      "text/html": [
       "<div>\n",
       "<style scoped>\n",
       "    .dataframe tbody tr th:only-of-type {\n",
       "        vertical-align: middle;\n",
       "    }\n",
       "\n",
       "    .dataframe tbody tr th {\n",
       "        vertical-align: top;\n",
       "    }\n",
       "\n",
       "    .dataframe thead th {\n",
       "        text-align: right;\n",
       "    }\n",
       "</style>\n",
       "<table border=\"1\" class=\"dataframe\">\n",
       "  <thead>\n",
       "    <tr style=\"text-align: right;\">\n",
       "      <th></th>\n",
       "      <th>Unnamed: 0</th>\n",
       "      <th>Field ID</th>\n",
       "      <th>Description</th>\n",
       "      <th>Category</th>\n",
       "      <th>field_id_category</th>\n",
       "    </tr>\n",
       "  </thead>\n",
       "  <tbody>\n",
       "    <tr>\n",
       "      <th>162</th>\n",
       "      <td>162</td>\n",
       "      <td>25733</td>\n",
       "      <td>Amount of warping applied to non-linearly alig...</td>\n",
       "      <td>T1 structural brain MRI</td>\n",
       "      <td>Misc data type</td>\n",
       "    </tr>\n",
       "    <tr>\n",
       "      <th>1003</th>\n",
       "      <td>1003</td>\n",
       "      <td>25731</td>\n",
       "      <td>Discrepancy between T1 brain image and standar...</td>\n",
       "      <td>T1 structural brain MRI</td>\n",
       "      <td>Misc data type</td>\n",
       "    </tr>\n",
       "    <tr>\n",
       "      <th>1004</th>\n",
       "      <td>1004</td>\n",
       "      <td>25732</td>\n",
       "      <td>Discrepancy between T1 brain image and standar...</td>\n",
       "      <td>T1 structural brain MRI</td>\n",
       "      <td>Misc data type</td>\n",
       "    </tr>\n",
       "    <tr>\n",
       "      <th>1612</th>\n",
       "      <td>1612</td>\n",
       "      <td>25925</td>\n",
       "      <td>Intensity scaling for T1</td>\n",
       "      <td>T1 structural brain MRI</td>\n",
       "      <td>Misc data type</td>\n",
       "    </tr>\n",
       "    <tr>\n",
       "      <th>1634</th>\n",
       "      <td>1634</td>\n",
       "      <td>25735</td>\n",
       "      <td>Inverted contrast-to-noise ratio in T1</td>\n",
       "      <td>T1 structural brain MRI</td>\n",
       "      <td>Misc data type</td>\n",
       "    </tr>\n",
       "    <tr>\n",
       "      <th>1635</th>\n",
       "      <td>1635</td>\n",
       "      <td>25734</td>\n",
       "      <td>Inverted signal-to-noise ratio in T1</td>\n",
       "      <td>T1 structural brain MRI</td>\n",
       "      <td>Misc data type</td>\n",
       "    </tr>\n",
       "    <tr>\n",
       "      <th>3218</th>\n",
       "      <td>3218</td>\n",
       "      <td>25756</td>\n",
       "      <td>Scanner lateral (X) brain position</td>\n",
       "      <td>T1 structural brain MRI</td>\n",
       "      <td>Misc data type</td>\n",
       "    </tr>\n",
       "    <tr>\n",
       "      <th>3219</th>\n",
       "      <td>3219</td>\n",
       "      <td>25758</td>\n",
       "      <td>Scanner longitudinal (Z) brain position</td>\n",
       "      <td>T1 structural brain MRI</td>\n",
       "      <td>Misc data type</td>\n",
       "    </tr>\n",
       "    <tr>\n",
       "      <th>3220</th>\n",
       "      <td>3220</td>\n",
       "      <td>25759</td>\n",
       "      <td>Scanner table position</td>\n",
       "      <td>T1 structural brain MRI</td>\n",
       "      <td>Misc data type</td>\n",
       "    </tr>\n",
       "    <tr>\n",
       "      <th>3221</th>\n",
       "      <td>3221</td>\n",
       "      <td>25757</td>\n",
       "      <td>Scanner transverse (Y) brain position</td>\n",
       "      <td>T1 structural brain MRI</td>\n",
       "      <td>Misc data type</td>\n",
       "    </tr>\n",
       "    <tr>\n",
       "      <th>3296</th>\n",
       "      <td>3296</td>\n",
       "      <td>20216</td>\n",
       "      <td>T1 structural brain images - DICOM</td>\n",
       "      <td>T1 structural brain MRI</td>\n",
       "      <td>NaN</td>\n",
       "    </tr>\n",
       "    <tr>\n",
       "      <th>3297</th>\n",
       "      <td>3297</td>\n",
       "      <td>20252</td>\n",
       "      <td>T1 structural brain images - NIFTI</td>\n",
       "      <td>T1 structural brain MRI</td>\n",
       "      <td>blob/bulk data</td>\n",
       "    </tr>\n",
       "    <tr>\n",
       "      <th>3298</th>\n",
       "      <td>3298</td>\n",
       "      <td>20263</td>\n",
       "      <td>T1 surface model files and additional structur...</td>\n",
       "      <td>T1 structural brain MRI</td>\n",
       "      <td>blob/bulk data</td>\n",
       "    </tr>\n",
       "    <tr>\n",
       "      <th>3301</th>\n",
       "      <td>3301</td>\n",
       "      <td>26500</td>\n",
       "      <td>T2-FLAIR used (in addition to T1) to run FreeS...</td>\n",
       "      <td>T1 structural brain MRI</td>\n",
       "      <td>Misc data type</td>\n",
       "    </tr>\n",
       "    <tr>\n",
       "      <th>3974</th>\n",
       "      <td>3974</td>\n",
       "      <td>25025</td>\n",
       "      <td>Volume of brain stem + 4th ventricle</td>\n",
       "      <td>T1 structural brain MRI</td>\n",
       "      <td>Misc data type</td>\n",
       "    </tr>\n",
       "    <tr>\n",
       "      <th>3975</th>\n",
       "      <td>3975</td>\n",
       "      <td>25010</td>\n",
       "      <td>Volume of brain, grey+white matter</td>\n",
       "      <td>T1 structural brain MRI</td>\n",
       "      <td>Misc data type</td>\n",
       "    </tr>\n",
       "    <tr>\n",
       "      <th>3976</th>\n",
       "      <td>3976</td>\n",
       "      <td>25009</td>\n",
       "      <td>Volume of brain, grey+white matter (normalised...</td>\n",
       "      <td>T1 structural brain MRI</td>\n",
       "      <td>Misc data type</td>\n",
       "    </tr>\n",
       "    <tr>\n",
       "      <th>4007</th>\n",
       "      <td>4007</td>\n",
       "      <td>25006</td>\n",
       "      <td>Volume of grey matter</td>\n",
       "      <td>T1 structural brain MRI</td>\n",
       "      <td>Misc data type</td>\n",
       "    </tr>\n",
       "    <tr>\n",
       "      <th>4008</th>\n",
       "      <td>4008</td>\n",
       "      <td>25005</td>\n",
       "      <td>Volume of grey matter (normalised for head size)</td>\n",
       "      <td>T1 structural brain MRI</td>\n",
       "      <td>Misc data type</td>\n",
       "    </tr>\n",
       "    <tr>\n",
       "      <th>4221</th>\n",
       "      <td>4221</td>\n",
       "      <td>25002</td>\n",
       "      <td>Volume of peripheral cortical grey matter</td>\n",
       "      <td>T1 structural brain MRI</td>\n",
       "      <td>Misc data type</td>\n",
       "    </tr>\n",
       "    <tr>\n",
       "      <th>4222</th>\n",
       "      <td>4222</td>\n",
       "      <td>25001</td>\n",
       "      <td>Volume of peripheral cortical grey matter (nor...</td>\n",
       "      <td>T1 structural brain MRI</td>\n",
       "      <td>Misc data type</td>\n",
       "    </tr>\n",
       "    <tr>\n",
       "      <th>4282</th>\n",
       "      <td>4282</td>\n",
       "      <td>25004</td>\n",
       "      <td>Volume of ventricular cerebrospinal fluid</td>\n",
       "      <td>T1 structural brain MRI</td>\n",
       "      <td>Misc data type</td>\n",
       "    </tr>\n",
       "    <tr>\n",
       "      <th>4283</th>\n",
       "      <td>4283</td>\n",
       "      <td>25003</td>\n",
       "      <td>Volume of ventricular cerebrospinal fluid (nor...</td>\n",
       "      <td>T1 structural brain MRI</td>\n",
       "      <td>Misc data type</td>\n",
       "    </tr>\n",
       "    <tr>\n",
       "      <th>4286</th>\n",
       "      <td>4286</td>\n",
       "      <td>25008</td>\n",
       "      <td>Volume of white matter</td>\n",
       "      <td>T1 structural brain MRI</td>\n",
       "      <td>Misc data type</td>\n",
       "    </tr>\n",
       "    <tr>\n",
       "      <th>4287</th>\n",
       "      <td>4287</td>\n",
       "      <td>25007</td>\n",
       "      <td>Volume of white matter (normalised for head size)</td>\n",
       "      <td>T1 structural brain MRI</td>\n",
       "      <td>Misc data type</td>\n",
       "    </tr>\n",
       "    <tr>\n",
       "      <th>4290</th>\n",
       "      <td>4290</td>\n",
       "      <td>25000</td>\n",
       "      <td>Volumetric scaling from T1 head image to stand...</td>\n",
       "      <td>T1 structural brain MRI</td>\n",
       "      <td>Misc data type</td>\n",
       "    </tr>\n",
       "  </tbody>\n",
       "</table>\n",
       "</div>"
      ],
      "text/plain": [
       "      Unnamed: 0  Field ID                                        Description  \\\n",
       "162          162     25733  Amount of warping applied to non-linearly alig...   \n",
       "1003        1003     25731  Discrepancy between T1 brain image and standar...   \n",
       "1004        1004     25732  Discrepancy between T1 brain image and standar...   \n",
       "1612        1612     25925                           Intensity scaling for T1   \n",
       "1634        1634     25735             Inverted contrast-to-noise ratio in T1   \n",
       "1635        1635     25734               Inverted signal-to-noise ratio in T1   \n",
       "3218        3218     25756                 Scanner lateral (X) brain position   \n",
       "3219        3219     25758            Scanner longitudinal (Z) brain position   \n",
       "3220        3220     25759                             Scanner table position   \n",
       "3221        3221     25757              Scanner transverse (Y) brain position   \n",
       "3296        3296     20216                 T1 structural brain images - DICOM   \n",
       "3297        3297     20252                 T1 structural brain images - NIFTI   \n",
       "3298        3298     20263  T1 surface model files and additional structur...   \n",
       "3301        3301     26500  T2-FLAIR used (in addition to T1) to run FreeS...   \n",
       "3974        3974     25025               Volume of brain stem + 4th ventricle   \n",
       "3975        3975     25010                 Volume of brain, grey+white matter   \n",
       "3976        3976     25009  Volume of brain, grey+white matter (normalised...   \n",
       "4007        4007     25006                              Volume of grey matter   \n",
       "4008        4008     25005   Volume of grey matter (normalised for head size)   \n",
       "4221        4221     25002          Volume of peripheral cortical grey matter   \n",
       "4222        4222     25001  Volume of peripheral cortical grey matter (nor...   \n",
       "4282        4282     25004          Volume of ventricular cerebrospinal fluid   \n",
       "4283        4283     25003  Volume of ventricular cerebrospinal fluid (nor...   \n",
       "4286        4286     25008                             Volume of white matter   \n",
       "4287        4287     25007  Volume of white matter (normalised for head size)   \n",
       "4290        4290     25000  Volumetric scaling from T1 head image to stand...   \n",
       "\n",
       "                     Category field_id_category  \n",
       "162   T1 structural brain MRI    Misc data type  \n",
       "1003  T1 structural brain MRI    Misc data type  \n",
       "1004  T1 structural brain MRI    Misc data type  \n",
       "1612  T1 structural brain MRI    Misc data type  \n",
       "1634  T1 structural brain MRI    Misc data type  \n",
       "1635  T1 structural brain MRI    Misc data type  \n",
       "3218  T1 structural brain MRI    Misc data type  \n",
       "3219  T1 structural brain MRI    Misc data type  \n",
       "3220  T1 structural brain MRI    Misc data type  \n",
       "3221  T1 structural brain MRI    Misc data type  \n",
       "3296  T1 structural brain MRI               NaN  \n",
       "3297  T1 structural brain MRI    blob/bulk data  \n",
       "3298  T1 structural brain MRI    blob/bulk data  \n",
       "3301  T1 structural brain MRI    Misc data type  \n",
       "3974  T1 structural brain MRI    Misc data type  \n",
       "3975  T1 structural brain MRI    Misc data type  \n",
       "3976  T1 structural brain MRI    Misc data type  \n",
       "4007  T1 structural brain MRI    Misc data type  \n",
       "4008  T1 structural brain MRI    Misc data type  \n",
       "4221  T1 structural brain MRI    Misc data type  \n",
       "4222  T1 structural brain MRI    Misc data type  \n",
       "4282  T1 structural brain MRI    Misc data type  \n",
       "4283  T1 structural brain MRI    Misc data type  \n",
       "4286  T1 structural brain MRI    Misc data type  \n",
       "4287  T1 structural brain MRI    Misc data type  \n",
       "4290  T1 structural brain MRI    Misc data type  "
      ]
     },
     "execution_count": 18,
     "metadata": {},
     "output_type": "execute_result"
    }
   ],
   "source": [
    "bulk_handler_object.get_field_ids_for_category(\"T1 structural brain MRI\")"
   ]
  },
  {
   "cell_type": "code",
   "execution_count": 19,
   "metadata": {
    "slideshow": {
     "slide_type": "subslide"
    }
   },
   "outputs": [
    {
     "name": "stderr",
     "output_type": "stream",
     "text": [
      "<ipython-input-19-7e7659a877a3>:2: DtypeWarning: Columns (3614,3615) have mixed types.Specify dtype option on import or set low_memory=False.\n",
      "  bulk_handler_object.get_subject_list_field_ids(20252)\n"
     ]
    },
    {
     "data": {
      "text/plain": [
       "array([1000012, 1000029, 1000031, ..., 6025904, 6025916, 6025927])"
      ]
     },
     "execution_count": 19,
     "metadata": {},
     "output_type": "execute_result"
    }
   ],
   "source": [
    "# 20252\tT1 structural brain images - NIFTI\tT1 structural brain MRI\tblob/bulk data\n",
    "bulk_handler_object.get_subject_list_field_ids(20252)"
   ]
  },
  {
   "cell_type": "code",
   "execution_count": 21,
   "metadata": {
    "slideshow": {
     "slide_type": "subslide"
    }
   },
   "outputs": [
    {
     "name": "stdout",
     "output_type": "stream",
     "text": [
      "4670217/4670217_20252_2_0.zip 4670217/4670217_20252_3_0.zip \n"
     ]
    },
    {
     "data": {
      "text/plain": [
       "'/home/tighu/PycharmProjects/UKBRepo/ukb/inputs/4670217'"
      ]
     },
     "execution_count": 21,
     "metadata": {},
     "output_type": "execute_result"
    }
   ],
   "source": [
    "#4670217,4150484,2986833\n",
    "bulk_handler_object.get_data_bulk(20252,4670217)"
   ]
  },
  {
   "cell_type": "code",
   "execution_count": 20,
   "metadata": {
    "slideshow": {
     "slide_type": "subslide"
    }
   },
   "outputs": [
    {
     "name": "stdout",
     "output_type": "stream",
     "text": [
      "1118270/1118270_20252_2_0.zip 1118270/1118270_20252_3_0.zip \n"
     ]
    },
    {
     "data": {
      "text/plain": [
       "'/home/tighu/PycharmProjects/UKBRepo/ukb/inputs/1118270'"
      ]
     },
     "execution_count": 20,
     "metadata": {},
     "output_type": "execute_result"
    }
   ],
   "source": [
    "bulk_handler_object.get_data_bulk(20252,1118270)"
   ]
  },
  {
   "cell_type": "code",
   "execution_count": 8,
   "metadata": {},
   "outputs": [],
   "source": [
    "#bulk_handler_object.display_all_ukb_categories()"
   ]
  },
  {
   "cell_type": "code",
   "execution_count": 9,
   "metadata": {},
   "outputs": [],
   "source": [
    "#scalar_handler_object.display_all_ukb_categories()"
   ]
  },
  {
   "cell_type": "code",
   "execution_count": 9,
   "metadata": {},
   "outputs": [
    {
     "name": "stdout",
     "output_type": "stream",
     "text": [
      "['21000-0.0', '21000-1.0', '21000-2.0']\n"
     ]
    },
    {
     "data": {
      "text/plain": [
       "array([1000012, 1000029, 1000031, ..., 6025904, 6025916, 6025927])"
      ]
     },
     "execution_count": 9,
     "metadata": {},
     "output_type": "execute_result"
    }
   ],
   "source": [
    "# Field ID 21000--> Ethnicity\n",
    "scalar_handler_object.get_subject_list_field_ids(21000)"
   ]
  },
  {
   "cell_type": "code",
   "execution_count": 10,
   "metadata": {},
   "outputs": [
    {
     "data": {
      "text/html": [
       "<div>\n",
       "<style scoped>\n",
       "    .dataframe tbody tr th:only-of-type {\n",
       "        vertical-align: middle;\n",
       "    }\n",
       "\n",
       "    .dataframe tbody tr th {\n",
       "        vertical-align: top;\n",
       "    }\n",
       "\n",
       "    .dataframe thead th {\n",
       "        text-align: right;\n",
       "    }\n",
       "</style>\n",
       "<table border=\"1\" class=\"dataframe\">\n",
       "  <thead>\n",
       "    <tr style=\"text-align: right;\">\n",
       "      <th></th>\n",
       "      <th>eid</th>\n",
       "      <th>21000-0.0</th>\n",
       "      <th>21000-1.0</th>\n",
       "      <th>21000-2.0</th>\n",
       "    </tr>\n",
       "  </thead>\n",
       "  <tbody>\n",
       "    <tr>\n",
       "      <th>0</th>\n",
       "      <td>1000012</td>\n",
       "      <td>1001.0</td>\n",
       "      <td>NaN</td>\n",
       "      <td>NaN</td>\n",
       "    </tr>\n",
       "  </tbody>\n",
       "</table>\n",
       "</div>"
      ],
      "text/plain": [
       "       eid  21000-0.0  21000-1.0  21000-2.0\n",
       "0  1000012     1001.0        NaN        NaN"
      ]
     },
     "execution_count": 10,
     "metadata": {},
     "output_type": "execute_result"
    }
   ],
   "source": [
    "scalar_handler_object.get_data_scalar(21000,1000012)"
   ]
  },
  {
   "cell_type": "code",
   "execution_count": 8,
   "metadata": {},
   "outputs": [
    {
     "data": {
      "text/html": [
       "<div>\n",
       "<style scoped>\n",
       "    .dataframe tbody tr th:only-of-type {\n",
       "        vertical-align: middle;\n",
       "    }\n",
       "\n",
       "    .dataframe tbody tr th {\n",
       "        vertical-align: top;\n",
       "    }\n",
       "\n",
       "    .dataframe thead th {\n",
       "        text-align: right;\n",
       "    }\n",
       "</style>\n",
       "<table border=\"1\" class=\"dataframe\">\n",
       "  <thead>\n",
       "    <tr style=\"text-align: right;\">\n",
       "      <th></th>\n",
       "      <th>Field ID</th>\n",
       "      <th>Description</th>\n",
       "      <th>Category</th>\n",
       "      <th>Type</th>\n",
       "    </tr>\n",
       "  </thead>\n",
       "  <tbody>\n",
       "    <tr>\n",
       "      <th>162</th>\n",
       "      <td>25733</td>\n",
       "      <td>Amount of warping applied to non-linearly alig...</td>\n",
       "      <td>T1 structural brain MRI</td>\n",
       "      <td>NaN</td>\n",
       "    </tr>\n",
       "    <tr>\n",
       "      <th>1003</th>\n",
       "      <td>25731</td>\n",
       "      <td>Discrepancy between T1 brain image and standar...</td>\n",
       "      <td>T1 structural brain MRI</td>\n",
       "      <td>NaN</td>\n",
       "    </tr>\n",
       "    <tr>\n",
       "      <th>1004</th>\n",
       "      <td>25732</td>\n",
       "      <td>Discrepancy between T1 brain image and standar...</td>\n",
       "      <td>T1 structural brain MRI</td>\n",
       "      <td>NaN</td>\n",
       "    </tr>\n",
       "    <tr>\n",
       "      <th>1612</th>\n",
       "      <td>25925</td>\n",
       "      <td>Intensity scaling for T1</td>\n",
       "      <td>T1 structural brain MRI</td>\n",
       "      <td>NaN</td>\n",
       "    </tr>\n",
       "    <tr>\n",
       "      <th>1634</th>\n",
       "      <td>25735</td>\n",
       "      <td>Inverted contrast-to-noise ratio in T1</td>\n",
       "      <td>T1 structural brain MRI</td>\n",
       "      <td>NaN</td>\n",
       "    </tr>\n",
       "    <tr>\n",
       "      <th>1635</th>\n",
       "      <td>25734</td>\n",
       "      <td>Inverted signal-to-noise ratio in T1</td>\n",
       "      <td>T1 structural brain MRI</td>\n",
       "      <td>NaN</td>\n",
       "    </tr>\n",
       "    <tr>\n",
       "      <th>3218</th>\n",
       "      <td>25756</td>\n",
       "      <td>Scanner lateral (X) brain position</td>\n",
       "      <td>T1 structural brain MRI</td>\n",
       "      <td>NaN</td>\n",
       "    </tr>\n",
       "    <tr>\n",
       "      <th>3219</th>\n",
       "      <td>25758</td>\n",
       "      <td>Scanner longitudinal (Z) brain position</td>\n",
       "      <td>T1 structural brain MRI</td>\n",
       "      <td>NaN</td>\n",
       "    </tr>\n",
       "    <tr>\n",
       "      <th>3220</th>\n",
       "      <td>25759</td>\n",
       "      <td>Scanner table position</td>\n",
       "      <td>T1 structural brain MRI</td>\n",
       "      <td>NaN</td>\n",
       "    </tr>\n",
       "    <tr>\n",
       "      <th>3221</th>\n",
       "      <td>25757</td>\n",
       "      <td>Scanner transverse (Y) brain position</td>\n",
       "      <td>T1 structural brain MRI</td>\n",
       "      <td>NaN</td>\n",
       "    </tr>\n",
       "    <tr>\n",
       "      <th>3296</th>\n",
       "      <td>20216</td>\n",
       "      <td>T1 structural brain images - DICOM</td>\n",
       "      <td>T1 structural brain MRI</td>\n",
       "      <td>#‡</td>\n",
       "    </tr>\n",
       "    <tr>\n",
       "      <th>3297</th>\n",
       "      <td>20252</td>\n",
       "      <td>T1 structural brain images - NIFTI</td>\n",
       "      <td>T1 structural brain MRI</td>\n",
       "      <td>‡</td>\n",
       "    </tr>\n",
       "    <tr>\n",
       "      <th>3298</th>\n",
       "      <td>20263</td>\n",
       "      <td>T1 surface model files and additional structur...</td>\n",
       "      <td>T1 structural brain MRI</td>\n",
       "      <td>‡</td>\n",
       "    </tr>\n",
       "    <tr>\n",
       "      <th>3301</th>\n",
       "      <td>26500</td>\n",
       "      <td>T2-FLAIR used (in addition to T1) to run FreeS...</td>\n",
       "      <td>T1 structural brain MRI</td>\n",
       "      <td>NaN</td>\n",
       "    </tr>\n",
       "    <tr>\n",
       "      <th>3974</th>\n",
       "      <td>25025</td>\n",
       "      <td>Volume of brain stem + 4th ventricle</td>\n",
       "      <td>T1 structural brain MRI</td>\n",
       "      <td>NaN</td>\n",
       "    </tr>\n",
       "    <tr>\n",
       "      <th>3975</th>\n",
       "      <td>25010</td>\n",
       "      <td>Volume of brain, grey+white matter</td>\n",
       "      <td>T1 structural brain MRI</td>\n",
       "      <td>NaN</td>\n",
       "    </tr>\n",
       "    <tr>\n",
       "      <th>3976</th>\n",
       "      <td>25009</td>\n",
       "      <td>Volume of brain, grey+white matter (normalised...</td>\n",
       "      <td>T1 structural brain MRI</td>\n",
       "      <td>NaN</td>\n",
       "    </tr>\n",
       "    <tr>\n",
       "      <th>4007</th>\n",
       "      <td>25006</td>\n",
       "      <td>Volume of grey matter</td>\n",
       "      <td>T1 structural brain MRI</td>\n",
       "      <td>NaN</td>\n",
       "    </tr>\n",
       "    <tr>\n",
       "      <th>4008</th>\n",
       "      <td>25005</td>\n",
       "      <td>Volume of grey matter (normalised for head size)</td>\n",
       "      <td>T1 structural brain MRI</td>\n",
       "      <td>NaN</td>\n",
       "    </tr>\n",
       "    <tr>\n",
       "      <th>4221</th>\n",
       "      <td>25002</td>\n",
       "      <td>Volume of peripheral cortical grey matter</td>\n",
       "      <td>T1 structural brain MRI</td>\n",
       "      <td>NaN</td>\n",
       "    </tr>\n",
       "    <tr>\n",
       "      <th>4222</th>\n",
       "      <td>25001</td>\n",
       "      <td>Volume of peripheral cortical grey matter (nor...</td>\n",
       "      <td>T1 structural brain MRI</td>\n",
       "      <td>NaN</td>\n",
       "    </tr>\n",
       "    <tr>\n",
       "      <th>4282</th>\n",
       "      <td>25004</td>\n",
       "      <td>Volume of ventricular cerebrospinal fluid</td>\n",
       "      <td>T1 structural brain MRI</td>\n",
       "      <td>NaN</td>\n",
       "    </tr>\n",
       "    <tr>\n",
       "      <th>4283</th>\n",
       "      <td>25003</td>\n",
       "      <td>Volume of ventricular cerebrospinal fluid (nor...</td>\n",
       "      <td>T1 structural brain MRI</td>\n",
       "      <td>NaN</td>\n",
       "    </tr>\n",
       "    <tr>\n",
       "      <th>4286</th>\n",
       "      <td>25008</td>\n",
       "      <td>Volume of white matter</td>\n",
       "      <td>T1 structural brain MRI</td>\n",
       "      <td>NaN</td>\n",
       "    </tr>\n",
       "    <tr>\n",
       "      <th>4287</th>\n",
       "      <td>25007</td>\n",
       "      <td>Volume of white matter (normalised for head size)</td>\n",
       "      <td>T1 structural brain MRI</td>\n",
       "      <td>NaN</td>\n",
       "    </tr>\n",
       "    <tr>\n",
       "      <th>4290</th>\n",
       "      <td>25000</td>\n",
       "      <td>Volumetric scaling from T1 head image to stand...</td>\n",
       "      <td>T1 structural brain MRI</td>\n",
       "      <td>NaN</td>\n",
       "    </tr>\n",
       "  </tbody>\n",
       "</table>\n",
       "</div>"
      ],
      "text/plain": [
       "      Field ID                                        Description  \\\n",
       "162      25733  Amount of warping applied to non-linearly alig...   \n",
       "1003     25731  Discrepancy between T1 brain image and standar...   \n",
       "1004     25732  Discrepancy between T1 brain image and standar...   \n",
       "1612     25925                           Intensity scaling for T1   \n",
       "1634     25735             Inverted contrast-to-noise ratio in T1   \n",
       "1635     25734               Inverted signal-to-noise ratio in T1   \n",
       "3218     25756                 Scanner lateral (X) brain position   \n",
       "3219     25758            Scanner longitudinal (Z) brain position   \n",
       "3220     25759                             Scanner table position   \n",
       "3221     25757              Scanner transverse (Y) brain position   \n",
       "3296     20216                 T1 structural brain images - DICOM   \n",
       "3297     20252                 T1 structural brain images - NIFTI   \n",
       "3298     20263  T1 surface model files and additional structur...   \n",
       "3301     26500  T2-FLAIR used (in addition to T1) to run FreeS...   \n",
       "3974     25025               Volume of brain stem + 4th ventricle   \n",
       "3975     25010                 Volume of brain, grey+white matter   \n",
       "3976     25009  Volume of brain, grey+white matter (normalised...   \n",
       "4007     25006                              Volume of grey matter   \n",
       "4008     25005   Volume of grey matter (normalised for head size)   \n",
       "4221     25002          Volume of peripheral cortical grey matter   \n",
       "4222     25001  Volume of peripheral cortical grey matter (nor...   \n",
       "4282     25004          Volume of ventricular cerebrospinal fluid   \n",
       "4283     25003  Volume of ventricular cerebrospinal fluid (nor...   \n",
       "4286     25008                             Volume of white matter   \n",
       "4287     25007  Volume of white matter (normalised for head size)   \n",
       "4290     25000  Volumetric scaling from T1 head image to stand...   \n",
       "\n",
       "                     Category Type  \n",
       "162   T1 structural brain MRI  NaN  \n",
       "1003  T1 structural brain MRI  NaN  \n",
       "1004  T1 structural brain MRI  NaN  \n",
       "1612  T1 structural brain MRI  NaN  \n",
       "1634  T1 structural brain MRI  NaN  \n",
       "1635  T1 structural brain MRI  NaN  \n",
       "3218  T1 structural brain MRI  NaN  \n",
       "3219  T1 structural brain MRI  NaN  \n",
       "3220  T1 structural brain MRI  NaN  \n",
       "3221  T1 structural brain MRI  NaN  \n",
       "3296  T1 structural brain MRI   #‡  \n",
       "3297  T1 structural brain MRI    ‡  \n",
       "3298  T1 structural brain MRI    ‡  \n",
       "3301  T1 structural brain MRI  NaN  \n",
       "3974  T1 structural brain MRI  NaN  \n",
       "3975  T1 structural brain MRI  NaN  \n",
       "3976  T1 structural brain MRI  NaN  \n",
       "4007  T1 structural brain MRI  NaN  \n",
       "4008  T1 structural brain MRI  NaN  \n",
       "4221  T1 structural brain MRI  NaN  \n",
       "4222  T1 structural brain MRI  NaN  \n",
       "4282  T1 structural brain MRI  NaN  \n",
       "4283  T1 structural brain MRI  NaN  \n",
       "4286  T1 structural brain MRI  NaN  \n",
       "4287  T1 structural brain MRI  NaN  \n",
       "4290  T1 structural brain MRI  NaN  "
      ]
     },
     "execution_count": 8,
     "metadata": {},
     "output_type": "execute_result"
    }
   ],
   "source": [
    "bulk_handler_object.get_field_ids_for_category(\"T1 structural brain MRI\")"
   ]
  },
  {
   "cell_type": "code",
   "execution_count": 7,
   "metadata": {},
   "outputs": [
    {
     "name": "stderr",
     "output_type": "stream",
     "text": [
      "<ipython-input-7-8a6f218ab2e4>:1: DtypeWarning: Columns (3612,3613) have mixed types.Specify dtype option on import or set low_memory=False.\n",
      "  bulk_handler_object.get_subject_list_field_ids(20251)\n"
     ]
    },
    {
     "data": {
      "text/plain": [
       "array([1000012, 1000029, 1000031, ..., 6025904, 6025916, 6025927])"
      ]
     },
     "execution_count": 7,
     "metadata": {},
     "output_type": "execute_result"
    }
   ],
   "source": [
    "bulk_handler_object.get_subject_list_field_ids(20251)"
   ]
  },
  {
   "cell_type": "code",
   "execution_count": 6,
   "metadata": {},
   "outputs": [
    {
     "name": "stdout",
     "output_type": "stream",
     "text": [
      "/home/tighu/PycharmProjects/UKBRepo/ukb/inputs\n"
     ]
    },
    {
     "data": {
      "text/plain": [
       "'/home/tighu/PycharmProjects/UKBRepo/ukb/inputs/1067273'"
      ]
     },
     "execution_count": 6,
     "metadata": {},
     "output_type": "execute_result"
    }
   ],
   "source": [
    "bulk_handler_object.get_data_bulk(12187,1067273)"
   ]
  },
  {
   "cell_type": "code",
   "execution_count": 4,
   "metadata": {},
   "outputs": [
    {
     "name": "stdout",
     "output_type": "stream",
     "text": [
      "/home/tighu/PycharmProjects/UKBRepo/ukb/inputs\r\n"
     ]
    }
   ],
   "source": [
    "!pwd"
   ]
  },
  {
   "cell_type": "code",
   "execution_count": 8,
   "metadata": {},
   "outputs": [],
   "source": [
    "import datalad"
   ]
  },
  {
   "cell_type": "code",
   "execution_count": 16,
   "metadata": {},
   "outputs": [
    {
     "name": "stdout",
     "output_type": "stream",
     "text": [
      "get(error): inputs/2635065/2635065_20217_2_0.zip (file) [Transfer failed\n",
      "Transfer failed\n",
      "Transfer failed]\n",
      "get(error): inputs/2635065/2635065_20218_2_0.zip (file) [Transfer failed\n",
      "Transfer failed\n",
      "Transfer failed]\n",
      "get(error): inputs/2635065/2635065_20219_2_0.zip (file) [Transfer failed\n",
      "Transfer failed\n",
      "Transfer failed]\n",
      "get(error): inputs/2635065/2635065_20225_2_0.zip (file) [Transfer failed\n",
      "Transfer failed\n",
      "Transfer failed]\n",
      "get(error): inputs/2635065/2635065_20227_2_0.zip (file) [Transfer failed\n",
      "Transfer failed\n",
      "Transfer failed]\n",
      "get(error): inputs/2635065/2635065_20249_2_0.zip (file) [Transfer failed\n",
      "Transfer failed\n",
      "Transfer failed]\n",
      "get(error): inputs/2635065/2635065_20250_2_0.zip (file) [Transfer failed\n",
      "Transfer failed\n",
      "Transfer failed]\n",
      "get(error): inputs/2635065/2635065_20251_2_0.zip (file) [Transfer failed\n",
      "Transfer failed\n",
      "Transfer failed]\n",
      "get(error): inputs/2635065/2635065_20252_2_0.zip (file) [Transfer failed\n",
      "Transfer failed\n",
      "Transfer failed]\n",
      "get(error): inputs/2635065/2635065_20253_2_0.zip (file) [Transfer failed\n",
      "Transfer failed\n",
      "Transfer failed]\n",
      "get(error): inputs/2635065/2635065_22002_0_0.CEL (file) [Transfer failed\n",
      "Transfer failed\n",
      "Transfer failed]\n",
      "get(error): inputs/2635065/2635065_25750_2_0.txt (file) [Transfer failed\n",
      "Transfer failed\n",
      "Transfer failed]\n",
      "get(error): inputs/2635065/2635065_25751_2_0.txt (file) [Transfer failed\n",
      "Transfer failed\n",
      "Transfer failed]\n",
      "get(error): inputs/2635065/2635065_25752_2_0.txt (file) [Transfer failed\n",
      "Transfer failed\n",
      "Transfer failed]\n",
      "get(error): inputs/2635065/2635065_25753_2_0.txt (file) [Transfer failed\n",
      "Transfer failed\n",
      "Transfer failed]\n",
      "get(error): inputs/2635065/2635065_25754_2_0.txt (file) [Transfer failed\n",
      "Transfer failed\n",
      "Transfer failed]\n",
      "get(error): inputs/2635065/2635065_25755_2_0.txt (file) [Transfer failed\n",
      "Transfer failed\n",
      "Transfer failed]\n",
      "action summary:\n",
      "  get (error: 17, notneeded: 1)\n"
     ]
    },
    {
     "ename": "CalledProcessError",
     "evalue": "Command 'b'datalad get 2635065\\n'' returned non-zero exit status 1.",
     "output_type": "error",
     "traceback": [
      "\u001b[0;31m---------------------------------------------------------------------------\u001b[0m",
      "\u001b[0;31mCalledProcessError\u001b[0m                        Traceback (most recent call last)",
      "\u001b[0;32m<ipython-input-16-0c8a9f812169>\u001b[0m in \u001b[0;36m<module>\u001b[0;34m\u001b[0m\n\u001b[0;32m----> 1\u001b[0;31m \u001b[0mget_ipython\u001b[0m\u001b[0;34m(\u001b[0m\u001b[0;34m)\u001b[0m\u001b[0;34m.\u001b[0m\u001b[0mrun_cell_magic\u001b[0m\u001b[0;34m(\u001b[0m\u001b[0;34m'bash'\u001b[0m\u001b[0;34m,\u001b[0m \u001b[0;34m''\u001b[0m\u001b[0;34m,\u001b[0m \u001b[0;34m'datalad get 2635065\\n'\u001b[0m\u001b[0;34m)\u001b[0m\u001b[0;34m\u001b[0m\u001b[0;34m\u001b[0m\u001b[0m\n\u001b[0m",
      "\u001b[0;32m~/anaconda3/envs/UKB/lib/python3.9/site-packages/IPython/core/interactiveshell.py\u001b[0m in \u001b[0;36mrun_cell_magic\u001b[0;34m(self, magic_name, line, cell)\u001b[0m\n\u001b[1;32m   2417\u001b[0m             \u001b[0;32mwith\u001b[0m \u001b[0mself\u001b[0m\u001b[0;34m.\u001b[0m\u001b[0mbuiltin_trap\u001b[0m\u001b[0;34m:\u001b[0m\u001b[0;34m\u001b[0m\u001b[0;34m\u001b[0m\u001b[0m\n\u001b[1;32m   2418\u001b[0m                 \u001b[0margs\u001b[0m \u001b[0;34m=\u001b[0m \u001b[0;34m(\u001b[0m\u001b[0mmagic_arg_s\u001b[0m\u001b[0;34m,\u001b[0m \u001b[0mcell\u001b[0m\u001b[0;34m)\u001b[0m\u001b[0;34m\u001b[0m\u001b[0;34m\u001b[0m\u001b[0m\n\u001b[0;32m-> 2419\u001b[0;31m                 \u001b[0mresult\u001b[0m \u001b[0;34m=\u001b[0m \u001b[0mfn\u001b[0m\u001b[0;34m(\u001b[0m\u001b[0;34m*\u001b[0m\u001b[0margs\u001b[0m\u001b[0;34m,\u001b[0m \u001b[0;34m**\u001b[0m\u001b[0mkwargs\u001b[0m\u001b[0;34m)\u001b[0m\u001b[0;34m\u001b[0m\u001b[0;34m\u001b[0m\u001b[0m\n\u001b[0m\u001b[1;32m   2420\u001b[0m             \u001b[0;32mreturn\u001b[0m \u001b[0mresult\u001b[0m\u001b[0;34m\u001b[0m\u001b[0;34m\u001b[0m\u001b[0m\n\u001b[1;32m   2421\u001b[0m \u001b[0;34m\u001b[0m\u001b[0m\n",
      "\u001b[0;32m~/anaconda3/envs/UKB/lib/python3.9/site-packages/IPython/core/magics/script.py\u001b[0m in \u001b[0;36mnamed_script_magic\u001b[0;34m(line, cell)\u001b[0m\n\u001b[1;32m    140\u001b[0m             \u001b[0;32melse\u001b[0m\u001b[0;34m:\u001b[0m\u001b[0;34m\u001b[0m\u001b[0;34m\u001b[0m\u001b[0m\n\u001b[1;32m    141\u001b[0m                 \u001b[0mline\u001b[0m \u001b[0;34m=\u001b[0m \u001b[0mscript\u001b[0m\u001b[0;34m\u001b[0m\u001b[0;34m\u001b[0m\u001b[0m\n\u001b[0;32m--> 142\u001b[0;31m             \u001b[0;32mreturn\u001b[0m \u001b[0mself\u001b[0m\u001b[0;34m.\u001b[0m\u001b[0mshebang\u001b[0m\u001b[0;34m(\u001b[0m\u001b[0mline\u001b[0m\u001b[0;34m,\u001b[0m \u001b[0mcell\u001b[0m\u001b[0;34m)\u001b[0m\u001b[0;34m\u001b[0m\u001b[0;34m\u001b[0m\u001b[0m\n\u001b[0m\u001b[1;32m    143\u001b[0m \u001b[0;34m\u001b[0m\u001b[0m\n\u001b[1;32m    144\u001b[0m         \u001b[0;31m# write a basic docstring:\u001b[0m\u001b[0;34m\u001b[0m\u001b[0;34m\u001b[0m\u001b[0m\n",
      "\u001b[0;32m~/anaconda3/envs/UKB/lib/python3.9/site-packages/decorator.py\u001b[0m in \u001b[0;36mfun\u001b[0;34m(*args, **kw)\u001b[0m\n\u001b[1;32m    230\u001b[0m             \u001b[0;32mif\u001b[0m \u001b[0;32mnot\u001b[0m \u001b[0mkwsyntax\u001b[0m\u001b[0;34m:\u001b[0m\u001b[0;34m\u001b[0m\u001b[0;34m\u001b[0m\u001b[0m\n\u001b[1;32m    231\u001b[0m                 \u001b[0margs\u001b[0m\u001b[0;34m,\u001b[0m \u001b[0mkw\u001b[0m \u001b[0;34m=\u001b[0m \u001b[0mfix\u001b[0m\u001b[0;34m(\u001b[0m\u001b[0margs\u001b[0m\u001b[0;34m,\u001b[0m \u001b[0mkw\u001b[0m\u001b[0;34m,\u001b[0m \u001b[0msig\u001b[0m\u001b[0;34m)\u001b[0m\u001b[0;34m\u001b[0m\u001b[0;34m\u001b[0m\u001b[0m\n\u001b[0;32m--> 232\u001b[0;31m             \u001b[0;32mreturn\u001b[0m \u001b[0mcaller\u001b[0m\u001b[0;34m(\u001b[0m\u001b[0mfunc\u001b[0m\u001b[0;34m,\u001b[0m \u001b[0;34m*\u001b[0m\u001b[0;34m(\u001b[0m\u001b[0mextras\u001b[0m \u001b[0;34m+\u001b[0m \u001b[0margs\u001b[0m\u001b[0;34m)\u001b[0m\u001b[0;34m,\u001b[0m \u001b[0;34m**\u001b[0m\u001b[0mkw\u001b[0m\u001b[0;34m)\u001b[0m\u001b[0;34m\u001b[0m\u001b[0;34m\u001b[0m\u001b[0m\n\u001b[0m\u001b[1;32m    233\u001b[0m     \u001b[0mfun\u001b[0m\u001b[0;34m.\u001b[0m\u001b[0m__name__\u001b[0m \u001b[0;34m=\u001b[0m \u001b[0mfunc\u001b[0m\u001b[0;34m.\u001b[0m\u001b[0m__name__\u001b[0m\u001b[0;34m\u001b[0m\u001b[0;34m\u001b[0m\u001b[0m\n\u001b[1;32m    234\u001b[0m     \u001b[0mfun\u001b[0m\u001b[0;34m.\u001b[0m\u001b[0m__doc__\u001b[0m \u001b[0;34m=\u001b[0m \u001b[0mfunc\u001b[0m\u001b[0;34m.\u001b[0m\u001b[0m__doc__\u001b[0m\u001b[0;34m\u001b[0m\u001b[0;34m\u001b[0m\u001b[0m\n",
      "\u001b[0;32m~/anaconda3/envs/UKB/lib/python3.9/site-packages/IPython/core/magic.py\u001b[0m in \u001b[0;36m<lambda>\u001b[0;34m(f, *a, **k)\u001b[0m\n\u001b[1;32m    185\u001b[0m     \u001b[0;31m# but it's overkill for just that one bit of state.\u001b[0m\u001b[0;34m\u001b[0m\u001b[0;34m\u001b[0m\u001b[0m\n\u001b[1;32m    186\u001b[0m     \u001b[0;32mdef\u001b[0m \u001b[0mmagic_deco\u001b[0m\u001b[0;34m(\u001b[0m\u001b[0marg\u001b[0m\u001b[0;34m)\u001b[0m\u001b[0;34m:\u001b[0m\u001b[0;34m\u001b[0m\u001b[0;34m\u001b[0m\u001b[0m\n\u001b[0;32m--> 187\u001b[0;31m         \u001b[0mcall\u001b[0m \u001b[0;34m=\u001b[0m \u001b[0;32mlambda\u001b[0m \u001b[0mf\u001b[0m\u001b[0;34m,\u001b[0m \u001b[0;34m*\u001b[0m\u001b[0ma\u001b[0m\u001b[0;34m,\u001b[0m \u001b[0;34m**\u001b[0m\u001b[0mk\u001b[0m\u001b[0;34m:\u001b[0m \u001b[0mf\u001b[0m\u001b[0;34m(\u001b[0m\u001b[0;34m*\u001b[0m\u001b[0ma\u001b[0m\u001b[0;34m,\u001b[0m \u001b[0;34m**\u001b[0m\u001b[0mk\u001b[0m\u001b[0;34m)\u001b[0m\u001b[0;34m\u001b[0m\u001b[0;34m\u001b[0m\u001b[0m\n\u001b[0m\u001b[1;32m    188\u001b[0m \u001b[0;34m\u001b[0m\u001b[0m\n\u001b[1;32m    189\u001b[0m         \u001b[0;32mif\u001b[0m \u001b[0mcallable\u001b[0m\u001b[0;34m(\u001b[0m\u001b[0marg\u001b[0m\u001b[0;34m)\u001b[0m\u001b[0;34m:\u001b[0m\u001b[0;34m\u001b[0m\u001b[0;34m\u001b[0m\u001b[0m\n",
      "\u001b[0;32m~/anaconda3/envs/UKB/lib/python3.9/site-packages/IPython/core/magics/script.py\u001b[0m in \u001b[0;36mshebang\u001b[0;34m(self, line, cell)\u001b[0m\n\u001b[1;32m    243\u001b[0m             \u001b[0msys\u001b[0m\u001b[0;34m.\u001b[0m\u001b[0mstderr\u001b[0m\u001b[0;34m.\u001b[0m\u001b[0mflush\u001b[0m\u001b[0;34m(\u001b[0m\u001b[0;34m)\u001b[0m\u001b[0;34m\u001b[0m\u001b[0;34m\u001b[0m\u001b[0m\n\u001b[1;32m    244\u001b[0m         \u001b[0;32mif\u001b[0m \u001b[0margs\u001b[0m\u001b[0;34m.\u001b[0m\u001b[0mraise_error\u001b[0m \u001b[0;32mand\u001b[0m \u001b[0mp\u001b[0m\u001b[0;34m.\u001b[0m\u001b[0mreturncode\u001b[0m\u001b[0;34m!=\u001b[0m\u001b[0;36m0\u001b[0m\u001b[0;34m:\u001b[0m\u001b[0;34m\u001b[0m\u001b[0;34m\u001b[0m\u001b[0m\n\u001b[0;32m--> 245\u001b[0;31m             \u001b[0;32mraise\u001b[0m \u001b[0mCalledProcessError\u001b[0m\u001b[0;34m(\u001b[0m\u001b[0mp\u001b[0m\u001b[0;34m.\u001b[0m\u001b[0mreturncode\u001b[0m\u001b[0;34m,\u001b[0m \u001b[0mcell\u001b[0m\u001b[0;34m,\u001b[0m \u001b[0moutput\u001b[0m\u001b[0;34m=\u001b[0m\u001b[0mout\u001b[0m\u001b[0;34m,\u001b[0m \u001b[0mstderr\u001b[0m\u001b[0;34m=\u001b[0m\u001b[0merr\u001b[0m\u001b[0;34m)\u001b[0m\u001b[0;34m\u001b[0m\u001b[0;34m\u001b[0m\u001b[0m\n\u001b[0m\u001b[1;32m    246\u001b[0m \u001b[0;34m\u001b[0m\u001b[0m\n\u001b[1;32m    247\u001b[0m     \u001b[0;32mdef\u001b[0m \u001b[0m_run_script\u001b[0m\u001b[0;34m(\u001b[0m\u001b[0mself\u001b[0m\u001b[0;34m,\u001b[0m \u001b[0mp\u001b[0m\u001b[0;34m,\u001b[0m \u001b[0mcell\u001b[0m\u001b[0;34m,\u001b[0m \u001b[0mto_close\u001b[0m\u001b[0;34m)\u001b[0m\u001b[0;34m:\u001b[0m\u001b[0;34m\u001b[0m\u001b[0;34m\u001b[0m\u001b[0m\n",
      "\u001b[0;31mCalledProcessError\u001b[0m: Command 'b'datalad get 2635065\\n'' returned non-zero exit status 1."
     ]
    }
   ],
   "source": [
    "%%bash\n",
    "datalad get 2635065"
   ]
  },
  {
   "cell_type": "code",
   "execution_count": 8,
   "metadata": {},
   "outputs": [],
   "source": [
    "import os"
   ]
  },
  {
   "cell_type": "code",
   "execution_count": 9,
   "metadata": {},
   "outputs": [
    {
     "data": {
      "text/plain": [
       "256"
      ]
     },
     "execution_count": 9,
     "metadata": {},
     "output_type": "execute_result"
    }
   ],
   "source": [
    "os.system(\"datalad install -r tighu@openmind7.mit.edu:/om4/project/biobank/h_ukb/ukb\")"
   ]
  },
  {
   "cell_type": "code",
   "execution_count": 12,
   "metadata": {},
   "outputs": [
    {
     "name": "stdout",
     "output_type": "stream",
     "text": [
      "datalad 0.15.3\r\n"
     ]
    }
   ],
   "source": [
    "!datalad --version"
   ]
  },
  {
   "cell_type": "code",
   "execution_count": 14,
   "metadata": {},
   "outputs": [
    {
     "name": "stdout",
     "output_type": "stream",
     "text": [
      "git-annex version: 8.20211118-g23ee48898\r\n",
      "build flags: Assistant Webapp Pairing Inotify DBus DesktopNotify TorrentParser MagicMime Feeds Testsuite S3 WebDAV\r\n",
      "dependency versions: aws-0.22 bloomfilter-2.0.1.0 cryptonite-0.26 DAV-1.3.4 feed-1.3.0.1 ghc-8.8.4 http-client-0.6.4.1 persistent-sqlite-2.10.6.2 torrent-10000.1.1 uuid-1.3.13 yesod-1.6.1.0\r\n",
      "key/value backends: SHA256E SHA256 SHA512E SHA512 SHA224E SHA224 SHA384E SHA384 SHA3_256E SHA3_256 SHA3_512E SHA3_512 SHA3_224E SHA3_224 SHA3_384E SHA3_384 SKEIN256E SKEIN256 SKEIN512E SKEIN512 BLAKE2B256E BLAKE2B256 BLAKE2B512E BLAKE2B512 BLAKE2B160E BLAKE2B160 BLAKE2B224E BLAKE2B224 BLAKE2B384E BLAKE2B384 BLAKE2BP512E BLAKE2BP512 BLAKE2S256E BLAKE2S256 BLAKE2S160E BLAKE2S160 BLAKE2S224E BLAKE2S224 BLAKE2SP256E BLAKE2SP256 BLAKE2SP224E BLAKE2SP224 SHA1E SHA1 MD5E MD5 WORM URL X*\r\n",
      "remote types: git gcrypt p2p S3 bup directory rsync web bittorrent webdav adb tahoe glacier ddar git-lfs httpalso borg hook external\r\n",
      "operating system: linux x86_64\r\n",
      "supported repository versions: 8\r\n",
      "upgrade supported from repository versions: 0 1 2 3 4 5 6 7\r\n"
     ]
    }
   ],
   "source": []
  },
  {
   "cell_type": "code",
   "execution_count": 15,
   "metadata": {},
   "outputs": [
    {
     "name": "stdout",
     "output_type": "stream",
     "text": [
      "# conda environments:\r\n",
      "#\r\n",
      "base                  *  /home/tighu/anaconda3\r\n",
      "UKB                      /home/tighu/anaconda3/envs/UKB\r\n",
      "mne                      /home/tighu/anaconda3/envs/mne\r\n",
      "\r\n"
     ]
    }
   ],
   "source": [
    "! conda env list"
   ]
  },
  {
   "cell_type": "code",
   "execution_count": 7,
   "metadata": {},
   "outputs": [
    {
     "data": {
      "text/plain": [
       "['Abdominal composition',\n",
       " 'ECG at rest, 12-lead',\n",
       " 'Infectious Disease Antigens',\n",
       " 'NMR metabolomics',\n",
       " 'NMR metabolomics QC indicators',\n",
       " 'Autorefraction',\n",
       " 'Task functional brain MRI',\n",
       " 'Abdominal MRI',\n",
       " 'Social support',\n",
       " 'ECG during exercise',\n",
       " 'MET Scores',\n",
       " 'Arterial stiffness',\n",
       " 'Spirometry',\n",
       " 'Brain MRI',\n",
       " 'Telomeres',\n",
       " 'Early life factors',\n",
       " 'Family history',\n",
       " 'Medical conditions',\n",
       " 'Female-specific factors',\n",
       " 'Eyesight',\n",
       " 'Education',\n",
       " 'Sexual factors',\n",
       " 'Smoking',\n",
       " 'Reception',\n",
       " 'Diet',\n",
       " 'Procedural metrics',\n",
       " 'Blood biochemistry',\n",
       " 'Blood biochemistry processing',\n",
       " 'Alcohol',\n",
       " 'T1 structural brain MRI',\n",
       " 'Body composition by DXA',\n",
       " 'Bone-densitometry of heel',\n",
       " 'Medications',\n",
       " 'Heart MRI',\n",
       " 'Intraocular pressure',\n",
       " 'Freesurfer BA exvivo',\n",
       " 'Freesurfer a2009s',\n",
       " 'Freesurfer desikan white',\n",
       " 'Freesurfer desikan pial',\n",
       " 'Freesurfer DKT',\n",
       " 'Bone size, mineral and density by DXA',\n",
       " 'Body composition by impedance',\n",
       " 'Arterial spin labelling brain MRI',\n",
       " 'Cardiac and aortic function',\n",
       " 'Fluid intelligence / reasoning',\n",
       " 'Other sociodemographic factors',\n",
       " 'Pulse wave analysis',\n",
       " 'Left ventricular size and function',\n",
       " 'Household',\n",
       " 'Infectious Diseases',\n",
       " 'Pain',\n",
       " 'Blood count',\n",
       " 'Blood count processing',\n",
       " 'DXA assessment',\n",
       " 'Process authorisation',\n",
       " 'Process durations',\n",
       " 'Process completion times',\n",
       " 'Mental health',\n",
       " 'Blood pressure',\n",
       " 'Blood sample collection',\n",
       " 'Body size measures',\n",
       " 'Eye surgery/complications',\n",
       " 'Carotid ultrasound',\n",
       " 'Employment',\n",
       " 'Chest pain',\n",
       " 'Sun exposure',\n",
       " 'Hearing',\n",
       " 'Hearing test',\n",
       " 'Numeric memory',\n",
       " 'Urine assays',\n",
       " 'Urine processing',\n",
       " 'Sleep',\n",
       " 'Electronic device use',\n",
       " 'Visual acuity',\n",
       " 'Derived OCT measures',\n",
       " 'Susceptibility weighted brain MRI',\n",
       " 'T2-weighted brain MRI',\n",
       " 'Diffusion brain MRI',\n",
       " 'Resting functional brain MRI',\n",
       " 'Greenspace and coastal proximity',\n",
       " 'Physical activity',\n",
       " 'Retinal optical coherence tomography',\n",
       " 'Picture vocabulary',\n",
       " 'Prospective memory',\n",
       " 'Matrix pattern completion',\n",
       " 'Trail making',\n",
       " 'Tower rearranging',\n",
       " 'Symbol digit substitution',\n",
       " 'Reaction time',\n",
       " 'Ethnicity',\n",
       " 'Cancer screening',\n",
       " 'General health',\n",
       " 'Freesurfer desikan gw',\n",
       " 'Operations',\n",
       " 'Male-specific factors',\n",
       " 'Hand grip strength',\n",
       " 'NMR metabolomics processing',\n",
       " 'Recruitment',\n",
       " 'Kidney MRI',\n",
       " 'Claudication and peripheral artery disease',\n",
       " 'Liver MRI',\n",
       " 'dMRI skeleton',\n",
       " 'Freesurfer ASEG',\n",
       " 'Pancreas MRI',\n",
       " 'Medication',\n",
       " 'Mouth',\n",
       " 'Lights pattern memory',\n",
       " 'Pairs matching',\n",
       " 'Paired associate learning',\n",
       " 'Word production',\n",
       " 'Scout images and configuration for brain MRI',\n",
       " 'Saliva sample collection',\n",
       " 'Urine sample collection',\n",
       " 'Breathing',\n",
       " 'Saliva sample inventory',\n",
       " 'Urine sample inventory',\n",
       " 'Blood sample inventory',\n",
       " 'Freesurfer subsegmentation',\n",
       " 'Subcortical volumes (FIRST)',\n",
       " 'Regional grey matter volumes (FAST)',\n",
       " 'dMRI weighted means']"
      ]
     },
     "execution_count": 7,
     "metadata": {},
     "output_type": "execute_result"
    }
   ],
   "source": [
    "scalar_handler_object.display_all_ukb_categories()"
   ]
  },
  {
   "cell_type": "code",
   "execution_count": null,
   "metadata": {},
   "outputs": [],
   "source": []
  }
 ],
 "metadata": {
  "celltoolbar": "Slideshow",
  "kernelspec": {
   "display_name": "Python 3",
   "language": "python",
   "name": "python3"
  },
  "language_info": {
   "codemirror_mode": {
    "name": "ipython",
    "version": 3
   },
   "file_extension": ".py",
   "mimetype": "text/x-python",
   "name": "python",
   "nbconvert_exporter": "python",
   "pygments_lexer": "ipython3",
   "version": "3.9.7"
  }
 },
 "nbformat": 4,
 "nbformat_minor": 4
}
